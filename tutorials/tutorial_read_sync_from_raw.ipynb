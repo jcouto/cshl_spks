{
 "cells": [
  {
   "cell_type": "code",
   "execution_count": 1,
   "metadata": {},
   "outputs": [
    {
     "name": "stderr",
     "output_type": "stream",
     "text": [
      "100%|██████████| 1/1 [03:30<00:00, 210.34s/it]\n"
     ]
    }
   ],
   "source": [
    "from analysis_helpers import *\n",
    "\n",
    "folder = r'E:/CSHL/pita_g0/'\n",
    "apfiles,nidqfile = list_spikeglx_files(folder)\n",
    "\n",
    "# load the AP channel for each probe and extract the onsets and offsets from the binary files\n",
    "aps = []\n",
    "apmetas = []\n",
    "aponsets = []\n",
    "apoffsets = []\n",
    "\n",
    "for file in tqdm(apfiles):\n",
    "    b = load_spikeglx_binary(file)\n",
    "    aps.append(b[0])\n",
    "    apmetas.append(b[1])\n",
    "    o,f = unpack_npix_sync(b[0][:,-1])\n",
    "    # load onsets for each probe\n",
    "    aponsets.append(o)\n",
    "    apoffsets.append(f)\n",
    "# load the NIDQ channel and extract the onsets/offsets\n",
    "nidq,nidqmeta = load_spikeglx_binary(nidqfile)\n",
    "nidqonsets,nidqoffsets = unpack_npix_sync(nidq[:,-1])"
   ]
  },
  {
   "cell_type": "code",
   "execution_count": 2,
   "metadata": {},
   "outputs": [
    {
     "name": "stdout",
     "output_type": "stream",
     "text": [
      "\n",
      "PROBES:\n",
      "\t- imec0 has 1138 on channel 6\n",
      "\n",
      "DAQ:\n",
      "\t - has 540 on channel 0\n",
      "\t - has 1138 on channel 5\n"
     ]
    }
   ],
   "source": [
    "# Print how many onsets and offsets are in each probe\n",
    "print('\\nPROBES:')\n",
    "for i,ons in enumerate(aponsets):\n",
    "    for k in ons.keys():\n",
    "        npulses = len(ons[k])\n",
    "        print(f'\\t- imec{i} has {npulses} on channel {k}')\n",
    "# and on the daq digital channels\n",
    "print('\\nDAQ:')\n",
    "for k in nidqonsets.keys():\n",
    "    npulses = len(nidqonsets[k])\n",
    "    print(f'\\t - has {npulses} on channel {k}')"
   ]
  },
  {
   "cell_type": "code",
   "execution_count": 3,
   "metadata": {},
   "outputs": [],
   "source": [
    "# by inspecting the outputs, we know that the sync is on channel 6 for the probe and on channel 5 for the DAQ\n",
    "apsyncchannel = 6\n",
    "nidqsyncchannel = 5\n",
    "# now lets interpolate to the first probe\n",
    "# interpolate data to the first probe \n",
    "from scipy.interpolate import interp1d\n",
    "apcorrections = []\n",
    "syncpulses = aponsets[0][apsyncchannel]/apmetas[0]['sRateHz'] # these are the pulses to interpolate to\n",
    "# there is only one probe here so these are not useful\n",
    "for pulses in aponsets:\n",
    "    apcorrections.append(interp1d(pulses[apsyncchannel],\n",
    "                                  syncpulses, fill_value='extrapolate')) # in samples\n",
    "    \n",
    "nidqcorrection = interp1d(nidqonsets[nidqsyncchannel],\n",
    "                                  syncpulses, fill_value='extrapolate') # in samples\n",
    "\n",
    "\n",
    "\n"
   ]
  },
  {
   "cell_type": "code",
   "execution_count": 41,
   "metadata": {},
   "outputs": [],
   "source": [
    "# Now that we know we can correct for the actual experiment sync and extract the optogenetics pulse\n",
    "# the visual stimulus is in digital channel 0 (port0.0)\n",
    "visual_stimulus_sync = nidqcorrection(nidqonsets[0])\n",
    "\n",
    "# now lets read the analog channel, the nitime \n",
    "nitime = nidqcorrection(np.arange(0,len(nidq))) \n",
    "# find the onsets of the optogenetics stimulus\n",
    "thresh = 200\n",
    "# first threshold the analog signal (ideally we use a trigger signal instead of a threshold)\n",
    "thresholded_analog = (nidq[:,0]>thresh).astype(np.float32)\n",
    "# then do the difference, the onsets will be +1, the offsets will be -1\n",
    "diffed_threshold = np.hstack([0,np.diff(thresholded_analog)])\n",
    "# now find the location of the onsets and offsets\n",
    "opto_stimulus_sync = nidqcorrection(np.where(diffed_threshold>0.5)[0])\n",
    "# this will also detect cases when the input to the LED fluctuates a bit, lets filter that.\n",
    "# We could either filter the signal or use info from the visual stimulus.\n",
    "# Lets use info from the visual stimulus, we will only use pulses that occur 0.7s after the visual stim\n",
    "filtered_opto = []\n",
    "for o in visual_stimulus_sync:\n",
    "    # for each trial\n",
    "    tmp = opto_stimulus_sync[opto_stimulus_sync>o]\n",
    "    if len(tmp):\n",
    "        # if there is an opto that is smaller than the visual trial\n",
    "        if (tmp[0]-o)<1:\n",
    "            # if the first happended less than 1 ms in the visual stim include it. \n",
    "            filtered_opto.append(tmp[0])\n",
    "opto_stimulus_sync = np.array(filtered_opto)"
   ]
  },
  {
   "cell_type": "code",
   "execution_count": 37,
   "metadata": {},
   "outputs": [
    {
     "data": {
      "text/plain": [
       "(21.675205325333334, 20.680526666666665)"
      ]
     },
     "execution_count": 37,
     "metadata": {},
     "output_type": "execute_result"
    }
   ],
   "source": []
  },
  {
   "cell_type": "code",
   "execution_count": 47,
   "metadata": {},
   "outputs": [],
   "source": [
    "%matplotlib qt\n",
    "\n",
    "import pylab as plt\n",
    "import numpy as np\n",
    "\n",
    "# lets plot how far off we were for each data stream\n",
    "\n",
    "# There is only one probe here so that is not useful\n",
    "# for iprobe,pulses in enumerate(aponsets):\n",
    "#     plt.figure(figsize=[8,3])\n",
    "#     plt.plot((syncpulses-pulses[apsyncchannel]/apmetas[iprobe]['sRateHz'])*1000,'ko',label='measured',alpha=0.5)\n",
    "#     plt.plot((syncpulses-apcorrections[iprobe](pulses[apsyncchannel]))*1000,'r.',label='corrected',alpha=0.5)\n",
    "#     plt.ylim([-5,5])\n",
    "#     plt.xlabel('time in experiment (s)')\n",
    "#     plt.ylabel('measured-corrected (ms)')\n",
    "# for here we care only about the NIDAQ\n",
    "plt.figure()\n",
    "plt.plot([syncpulses[0],syncpulses[-1]],[0,0],'-',color='lightgray')\n",
    "plt.plot((syncpulses-nidqonsets[nidqsyncchannel]/nidqmeta['sRateHz'])*1000,'k.',label='measured',alpha=0.5)\n",
    "plt.plot((syncpulses-nidqcorrection(nidqonsets[nidqsyncchannel]))*1000,'r.',label='corrected',alpha=0.5)\n",
    "plt.xlabel('time in experiment (s)')\n",
    "plt.ylabel('measured-corrected (ms)')\n",
    "plt.ylim([-2,2]);"
   ]
  },
  {
   "cell_type": "code",
   "execution_count": 50,
   "metadata": {},
   "outputs": [],
   "source": [
    "# lets plot the syncs \n",
    "plt.figure()\n",
    "plt.plot(nitime[:1000000],nidq[:1000000,0])\n",
    "\n",
    "plt.vlines(visual_stimulus_sync[visual_stimulus_sync<nitime[1000000]],15000,20000)\n",
    "plt.vlines(opto_stimulus_sync[opto_stimulus_sync<nitime[1000000]],20000,25000,color='blue')\n",
    "\n",
    "plt.yticks([7500,18000,23000],['optogenetics pulses','visual stimuli','opto stimuli']);\n",
    "\n"
   ]
  },
  {
   "cell_type": "code",
   "execution_count": 49,
   "metadata": {},
   "outputs": [],
   "source": [
    "# save the syncs\n",
    "import h5py as h5\n",
    "outputfile = pjoin(folder,'experiment_syncs.h5')\n",
    "with h5.File(outputfile,'w') as fd:\n",
    "    #save the corrected syncs, the sampling rate, and the \n",
    "    fd.create_dataset('opto_sync_s',data = opto_stimulus_sync)\n",
    "    fd.create_dataset('visual_sync_s',data = visual_stimulus_sync)\n",
    "    fd.create_dataset('stream_apsyncs',data = syncpulses)\n",
    "    fd.create_dataset('stream_nisyncs',data = nidqoffsets[nidqsyncchannel])\n",
    "    fd.create_dataset('sampling_rate',data = apmetas[0]['sRateHz'])"
   ]
  },
  {
   "cell_type": "code",
   "execution_count": 51,
   "metadata": {},
   "outputs": [
    {
     "data": {
      "text/plain": [
       "array([  14.68704   ,   20.68052667,   22.68037333,   24.68125519,\n",
       "         26.68505333,   28.68094   ,   30.68074   ,   32.68170031,\n",
       "         34.68050667,   38.68134512,   40.68311526,   44.6808318 ,\n",
       "         46.68572   ,   54.68312667,   56.68096513,   58.68085333,\n",
       "         60.68373333,   72.68190667,   76.68171333,   78.68147333,\n",
       "         84.68132   ,   88.68488667,  100.68202   ,  106.68154855,\n",
       "        108.68350667,  110.68634494,  112.68215333,  114.68203524,\n",
       "        120.68272   ,  124.68432667,  126.68236667,  128.68221333,\n",
       "        134.68166   ,  136.68174   ,  138.68346197,  142.68222667,\n",
       "        144.68206667,  146.68687333,  148.68287333,  150.68271333,\n",
       "        152.6846    ,  154.683     ,  156.68228   ,  162.68236667,\n",
       "        166.68325333,  168.68217333,  172.68298   ,  174.68486   ,\n",
       "        180.68602667,  184.68331333,  186.68319333,  188.68504   ,\n",
       "        192.68272   ,  200.68309333,  202.68397333,  204.68333531,\n",
       "        208.68258   ,  210.68454   ,  212.68330864,  218.68551333,\n",
       "        220.68439536,  224.68508   ,  226.68328   ,  228.68340198,\n",
       "        232.68356667,  234.68536667,  236.68329532,  238.68517333,\n",
       "        240.68513162,  250.68334667,  258.68479163,  268.68616667,\n",
       "        274.68369333,  276.68577159,  282.68525827,  286.68386667,\n",
       "        288.68486495,  292.68647333,  294.68447163,  298.68516   ,\n",
       "        300.68507828,  302.68488667,  304.68368667,  320.68562667,\n",
       "        322.68542667,  324.68538493,  328.68703333,  336.68743819,\n",
       "        338.68488667,  344.68561333,  348.6852116 ,  354.68533826,\n",
       "        358.68806887,  360.68691333,  366.68524   ,  368.685     ,\n",
       "        372.68768667,  388.6877    ,  398.68727333,  400.68715333,\n",
       "        402.68992   ,  408.68652667,  410.68756667,  412.68628667,\n",
       "        418.68585333,  420.68642   ,  424.68598213,  428.68774667,\n",
       "        432.68659549,  438.69116   ,  440.68708218,  450.68665333,\n",
       "        452.68945333,  454.68689333,  458.68994   ,  460.6864982 ,\n",
       "        464.68730886,  466.68978476,  472.6873515 ,  476.68904   ,\n",
       "        480.68776667,  490.68713151,  494.6899    ,  496.68673819,\n",
       "        498.68670667,  502.68926477,  514.68755815,  518.68728667,\n",
       "        520.6881248 ,  526.68873145,  530.69042233,  532.68933809,\n",
       "        540.68771333,  542.68755333,  546.68844226,  548.6882    ,\n",
       "        550.69096667,  554.6877289 ,  558.69057333,  560.68841333,\n",
       "        566.68802   ,  574.68939333,  578.6910757 ,  580.68996   ,\n",
       "        584.68872   ,  588.68944667,  590.68836667,  594.68905563,\n",
       "        604.68830667,  610.68887333,  616.69056   ,  618.68944   ,\n",
       "        620.69036   ,  630.68961333,  632.6894114 ,  638.69109801,\n",
       "        640.69010667,  642.69074667,  644.68974472,  646.68959333,\n",
       "        650.69027137,  652.6902    ,  654.68896   ,  656.69195798,\n",
       "        658.68972667,  660.68964667,  662.69056469,  666.68925333,\n",
       "        676.69054904,  678.69138667,  682.69007333,  684.69495588,\n",
       "        694.69024667,  698.69196464,  708.69038237,  710.69014667,\n",
       "        714.68998667,  716.68979568,  722.69036   ,  724.69124   ,\n",
       "        726.69424   ,  728.69196667,  738.69149333,  740.69114   ,\n",
       "        742.69614   ,  746.69274667,  748.69166667,  752.69135333,\n",
       "        756.69311333,  764.69056667,  766.69144667,  768.69136667,\n",
       "        770.69313333,  772.69101333,  776.69274   ,  780.69142   ,\n",
       "        786.69206667,  792.69171333,  796.69144   ,  802.69192667,\n",
       "        806.69173578,  808.69157333,  810.69241127,  812.69634   ,\n",
       "        816.69205795,  828.69319124,  832.69396   ,  834.69583782,\n",
       "        836.69264667,  838.69252915,  842.69525333,  844.69337333,\n",
       "        848.69394   ,  850.6927    ,  856.69538667,  858.69322457,\n",
       "        860.69307333,  862.69391333,  866.69264   ,  870.69535783,\n",
       "        872.69324667,  876.69500451,  880.69273333,  882.69353122,\n",
       "        884.69546   ,  886.69334   ,  894.69386454,  896.69379333,\n",
       "        900.69335122,  910.69568667,  914.69341333,  916.69345333,\n",
       "        918.69434   ,  920.69398   ,  930.69327333,  932.69615333,\n",
       "        938.6948    ,  940.6956    ,  946.69532667,  948.69605333,\n",
       "        950.69401333,  954.6947    ,  956.69462   ,  958.69454   ,\n",
       "        960.69422925,  968.69567598,  972.69448   ,  978.69404667,\n",
       "        980.69496667,  990.69726   ,  992.69510262,  996.69586667,\n",
       "        998.69470667, 1004.69727333, 1008.69604   , 1012.6968    ,\n",
       "       1014.69556667, 1016.69648667, 1026.69778   , 1028.69666   ,\n",
       "       1034.69542667, 1038.69599333, 1044.69564   , 1046.69552   ,\n",
       "       1054.69592667, 1056.69773333, 1058.69569333, 1062.69642   ,\n",
       "       1066.69610268, 1072.69578667, 1074.69547599, 1076.69647333,\n",
       "       1080.69516   , 1084.69696   , 1088.69668667, 1092.69841333])"
      ]
     },
     "execution_count": 51,
     "metadata": {},
     "output_type": "execute_result"
    }
   ],
   "source": [
    "opto_stimulus_sync"
   ]
  }
 ],
 "metadata": {
  "kernelspec": {
   "display_name": "Python 3",
   "language": "python",
   "name": "python3"
  },
  "language_info": {
   "codemirror_mode": {
    "name": "ipython",
    "version": 3
   },
   "file_extension": ".py",
   "mimetype": "text/x-python",
   "name": "python",
   "nbconvert_exporter": "python",
   "pygments_lexer": "ipython3",
   "version": "3.7.6"
  }
 },
 "nbformat": 4,
 "nbformat_minor": 4
}
